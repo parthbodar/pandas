{
 "cells": [
  {
   "cell_type": "markdown",
   "id": "c252e567",
   "metadata": {},
   "source": [
    "# Count the value of location\n"
   ]
  },
  {
   "cell_type": "code",
   "execution_count": null,
   "id": "b134d1a8",
   "metadata": {
    "execution": {
     "iopub.execute_input": "2023-10-18T04:47:47.607631Z",
     "iopub.status.busy": "2023-10-18T04:47:47.606919Z",
     "iopub.status.idle": "2023-10-18T04:47:47.615863Z",
     "shell.execute_reply": "2023-10-18T04:47:47.614748Z"
    },
    "papermill": {
     "duration": 0.052074,
     "end_time": "2023-10-18T04:47:47.617825",
     "exception": false,
     "start_time": "2023-10-18T04:47:47.565751",
     "status": "completed"
    },
    "tags": []
   },
   "outputs": [],
   "source": [
    "data[\"Location\"].value_counts()"
   ]
  },
  {
   "cell_type": "code",
   "execution_count": null,
   "id": "6c3d0fd5",
   "metadata": {},
   "outputs": [],
   "source": [
    "import numpy as np\n",
    "import pandas as pd\n",
    "import matplotlib.pyplot as plt\n",
    "import seaborn as sns"
   ]
  },
  {
   "cell_type": "code",
   "execution_count": null,
   "id": "c40516d6",
   "metadata": {},
   "outputs": [],
   "source": [
    "data = pd.read_csv(\"shopping_trends - shopping_trends.csv.csv\")"
   ]
  },
  {
   "cell_type": "code",
   "execution_count": null,
   "id": "771ca0c5",
   "metadata": {},
   "outputs": [],
   "source": [
    "data.head()"
   ]
  },
  {
   "cell_type": "code",
   "execution_count": null,
   "id": "407f0ede",
   "metadata": {},
   "outputs": [],
   "source": []
  },
  {
   "cell_type": "code",
   "execution_count": null,
   "id": "0785fa7f",
   "metadata": {},
   "outputs": [],
   "source": []
  },
  {
   "cell_type": "code",
   "execution_count": null,
   "id": "239fec8c",
   "metadata": {},
   "outputs": [],
   "source": []
  },
  {
   "cell_type": "code",
   "execution_count": null,
   "id": "54779012",
   "metadata": {},
   "outputs": [],
   "source": []
  },
  {
   "cell_type": "markdown",
   "id": "0109ef39",
   "metadata": {},
   "source": [
    "# Find Subscription status count"
   ]
  },
  {
   "cell_type": "code",
   "execution_count": null,
   "id": "9bf8c01c",
   "metadata": {},
   "outputs": [],
   "source": [
    "data[\"Subscription Status\"].value_counts()"
   ]
  },
  {
   "cell_type": "code",
   "execution_count": null,
   "id": "a85c387c",
   "metadata": {},
   "outputs": [],
   "source": []
  },
  {
   "cell_type": "markdown",
   "id": "dddefc4d",
   "metadata": {},
   "source": [
    "# Plot horizontal bar chart with title lable and legends"
   ]
  },
  {
   "cell_type": "code",
   "execution_count": null,
   "id": "50ee9c1b",
   "metadata": {},
   "outputs": [],
   "source": [
    "x= data[\"Category\"]"
   ]
  },
  {
   "cell_type": "code",
   "execution_count": null,
   "id": "e058da1e",
   "metadata": {},
   "outputs": [],
   "source": [
    "\n",
    "plt.barh(x,x.values, color='skyblue', label='Legend Label')\n",
    "plt.title('Horizontal Bar Chart ')\n",
    "plt.xlabel('Values')\n",
    "plt.ylabel('Categories')\n",
    "plt.legend()\n",
    "plt.show()\n"
   ]
  },
  {
   "cell_type": "markdown",
   "id": "7894c0a1",
   "metadata": {
    "execution": {
     "iopub.execute_input": "2023-10-18T04:47:50.352526Z",
     "iopub.status.busy": "2023-10-18T04:47:50.351199Z",
     "iopub.status.idle": "2023-10-18T04:47:50.359867Z",
     "shell.execute_reply": "2023-10-18T04:47:50.359027Z"
    },
    "papermill": {
     "duration": 0.058628,
     "end_time": "2023-10-18T04:47:50.361774",
     "exception": false,
     "start_time": "2023-10-18T04:47:50.303146",
     "status": "completed"
    },
    "tags": []
   },
   "source": [
    "# Find top3 payment method"
   ]
  },
  {
   "cell_type": "code",
   "execution_count": null,
   "id": "90d6f472",
   "metadata": {},
   "outputs": [],
   "source": [
    "data[\"Payment Method\"].value_counts().head(5)"
   ]
  },
  {
   "cell_type": "markdown",
   "id": "abcdb87b",
   "metadata": {
    "papermill": {
     "duration": 0.054514,
     "end_time": "2023-10-18T04:47:52.756918",
     "exception": false,
     "start_time": "2023-10-18T04:47:52.702404",
     "status": "completed"
    },
    "tags": []
   },
   "source": [
    "<div style=\"padding:10px;\n",
    "            color:#E55604;\n",
    "            margin:10px;\n",
    "            font-size:130%;\n",
    "            display:fill;\n",
    "            border-radius:5px;\n",
    "            border-style: solid;\n",
    "            border-color: #FF9B50;\n",
    "            background-color:#000000;\n",
    "            overflow:hidden;\n",
    "            font-weight:400\"><b>What is the average age of customers in the dataset ? (with mean)</b>\n",
    "</div>"
   ]
  },
  {
   "cell_type": "code",
   "execution_count": null,
   "id": "aa8006fa",
   "metadata": {},
   "outputs": [],
   "source": [
    "data[\"Age\"].mean()"
   ]
  },
  {
   "cell_type": "markdown",
   "id": "71b56e1b",
   "metadata": {
    "papermill": {
     "duration": 0.054893,
     "end_time": "2023-10-18T04:47:52.988181",
     "exception": false,
     "start_time": "2023-10-18T04:47:52.933288",
     "status": "completed"
    },
    "tags": []
   },
   "source": [
    "<div style=\"padding:10px;\n",
    "            color:#E55604;\n",
    "            margin:10px;\n",
    "            font-size:130%;\n",
    "            display:fill;\n",
    "            border-radius:5px;\n",
    "            border-style: solid;\n",
    "            border-color: #FF9B50;\n",
    "            background-color:#000000;\n",
    "            overflow:hidden;\n",
    "            font-weight:400\"><b>What is the most common item purchased ?</b>\n",
    "</div>"
   ]
  },
  {
   "cell_type": "code",
   "execution_count": null,
   "id": "94158d60",
   "metadata": {},
   "outputs": [],
   "source": [
    "data[\"Item Purchased\"].mode()"
   ]
  },
  {
   "cell_type": "markdown",
   "id": "bb543113",
   "metadata": {
    "papermill": {
     "duration": 0.055014,
     "end_time": "2023-10-18T04:47:53.220509",
     "exception": false,
     "start_time": "2023-10-18T04:47:53.165495",
     "status": "completed"
    },
    "tags": []
   },
   "source": [
    "<div style=\"padding:10px;\n",
    "            color:#E55604;\n",
    "            margin:10px;\n",
    "            font-size:130%;\n",
    "            display:fill;\n",
    "            border-radius:5px;\n",
    "            border-style: solid;\n",
    "            border-color: #FF9B50;\n",
    "            background-color:#000000;\n",
    "            overflow:hidden;\n",
    "            font-weight:400\"><b>What is the total purchase amount for each category ?</b>\n",
    "</div>"
   ]
  },
  {
   "cell_type": "code",
   "execution_count": null,
   "id": "5c32a9ef",
   "metadata": {
    "execution": {
     "iopub.execute_input": "2023-10-18T04:47:53.333415Z",
     "iopub.status.busy": "2023-10-18T04:47:53.332554Z",
     "iopub.status.idle": "2023-10-18T04:47:53.340397Z",
     "shell.execute_reply": "2023-10-18T04:47:53.339166Z"
    },
    "papermill": {
     "duration": 0.066927,
     "end_time": "2023-10-18T04:47:53.342291",
     "exception": false,
     "start_time": "2023-10-18T04:47:53.275364",
     "status": "completed"
    },
    "tags": []
   },
   "outputs": [],
   "source": [
    "total_purchase_by_category = df.groupby('Category')['Purchase Amount (USD)'].sum()\n",
    "print(\"Total Purchase Amount by Category:\")\n",
    "print(total_purchase_by_category)"
   ]
  },
  {
   "cell_type": "markdown",
   "id": "d2184272",
   "metadata": {
    "papermill": {
     "duration": 0.055812,
     "end_time": "2023-10-18T04:47:53.453287",
     "exception": false,
     "start_time": "2023-10-18T04:47:53.397475",
     "status": "completed"
    },
    "tags": []
   },
   "source": [
    "<div style=\"padding:10px;\n",
    "            color:#E55604;\n",
    "            margin:10px;\n",
    "            font-size:130%;\n",
    "            display:fill;\n",
    "            border-radius:5px;\n",
    "            border-style: solid;\n",
    "            border-color: #FF9B50;\n",
    "            background-color:#000000;\n",
    "            overflow:hidden;\n",
    "            font-weight:400\"><b>What is the average review rating for male customers and female customers separately ?</b>\n",
    "</div>"
   ]
  },
  {
   "cell_type": "code",
   "execution_count": null,
   "id": "49e4789b",
   "metadata": {},
   "outputs": [],
   "source": [
    "data1 = data.groupby('Gender')"
   ]
  },
  {
   "cell_type": "code",
   "execution_count": null,
   "id": "467e4fce",
   "metadata": {},
   "outputs": [],
   "source": [
    "data1[\"Review Rating\"].mean()"
   ]
  },
  {
   "cell_type": "code",
   "execution_count": null,
   "id": "f5b26949",
   "metadata": {
    "execution": {
     "iopub.execute_input": "2023-10-18T04:47:53.817507Z",
     "iopub.status.busy": "2023-10-18T04:47:53.816695Z",
     "iopub.status.idle": "2023-10-18T04:47:53.822878Z",
     "shell.execute_reply": "2023-10-18T04:47:53.821756Z"
    },
    "papermill": {
     "duration": 0.064719,
     "end_time": "2023-10-18T04:47:53.825129",
     "exception": false,
     "start_time": "2023-10-18T04:47:53.760410",
     "status": "completed"
    },
    "tags": []
   },
   "outputs": [],
   "source": [
    "most_common_payment_method = df['Payment Method'].mode()[0]\n",
    "print(\"Most Common Payment Method:\", most_common_payment_method)"
   ]
  },
  {
   "cell_type": "markdown",
   "id": "3d9e22d2",
   "metadata": {
    "papermill": {
     "duration": 0.054788,
     "end_time": "2023-10-18T04:47:53.935532",
     "exception": false,
     "start_time": "2023-10-18T04:47:53.880744",
     "status": "completed"
    },
    "tags": []
   },
   "source": [
    "<div style=\"padding:10px;\n",
    "            color:#E55604;\n",
    "            margin:10px;\n",
    "            font-size:130%;\n",
    "            display:fill;\n",
    "            border-radius:5px;\n",
    "            border-style: solid;\n",
    "            border-color: #FF9B50;\n",
    "            background-color:#000000;\n",
    "            overflow:hidden;\n",
    "            font-weight:400\"><b>What is the median purchase amount (USD) ?</b>\n",
    "</div>"
   ]
  },
  {
   "cell_type": "code",
   "execution_count": null,
   "id": "aace0633",
   "metadata": {},
   "outputs": [],
   "source": [
    "data[\"Purchase Amount (USD)\"].median()"
   ]
  },
  {
   "cell_type": "markdown",
   "id": "97f76c81",
   "metadata": {
    "papermill": {
     "duration": 0.055565,
     "end_time": "2023-10-18T04:47:54.644021",
     "exception": false,
     "start_time": "2023-10-18T04:47:54.588456",
     "status": "completed"
    },
    "tags": []
   },
   "source": [
    "<div style=\"padding:10px;\n",
    "            color:#E55604;\n",
    "            margin:10px;\n",
    "            font-size:130%;\n",
    "            display:fill;\n",
    "            border-radius:5px;\n",
    "            border-style: solid;\n",
    "            border-color: #FF9B50;\n",
    "            background-color:#000000;\n",
    "            overflow:hidden;\n",
    "            font-weight:400\"><b>What is the most common season for purchases ?</b></div>"
   ]
  },
  {
   "cell_type": "code",
   "execution_count": null,
   "id": "c45d528f",
   "metadata": {
    "execution": {
     "iopub.execute_input": "2023-10-18T04:47:54.757017Z",
     "iopub.status.busy": "2023-10-18T04:47:54.756099Z",
     "iopub.status.idle": "2023-10-18T04:47:54.763472Z",
     "shell.execute_reply": "2023-10-18T04:47:54.762328Z"
    },
    "papermill": {
     "duration": 0.06615,
     "end_time": "2023-10-18T04:47:54.765551",
     "exception": false,
     "start_time": "2023-10-18T04:47:54.699401",
     "status": "completed"
    },
    "tags": []
   },
   "outputs": [],
   "source": [
    "most_common_season = df['Season'].mode()[0]\n",
    "print(\"Most Common Season for Purchases:\", most_common_season)"
   ]
  },
  {
   "cell_type": "markdown",
   "id": "cb5e8b50",
   "metadata": {
    "papermill": {
     "duration": 0.057895,
     "end_time": "2023-10-18T04:47:55.110242",
     "exception": false,
     "start_time": "2023-10-18T04:47:55.052347",
     "status": "completed"
    },
    "tags": []
   },
   "source": [
    "<div style=\"padding:10px;\n",
    "            color:#E55604;\n",
    "            margin:10px;\n",
    "            font-size:130%;\n",
    "            display:fill;\n",
    "            border-radius:5px;\n",
    "            border-style: solid;\n",
    "            border-color: #FF9B50;\n",
    "            background-color:#000000;\n",
    "            overflow:hidden;\n",
    "            font-weight:400\"><b>What is the average age of customers who made purchases in the Summer season ?</b>\n",
    "</div>"
   ]
  },
  {
   "cell_type": "code",
   "execution_count": null,
   "id": "89591c37",
   "metadata": {
    "execution": {
     "iopub.execute_input": "2023-10-18T04:47:55.224387Z",
     "iopub.status.busy": "2023-10-18T04:47:55.223682Z",
     "iopub.status.idle": "2023-10-18T04:47:55.232095Z",
     "shell.execute_reply": "2023-10-18T04:47:55.230833Z"
    },
    "papermill": {
     "duration": 0.067561,
     "end_time": "2023-10-18T04:47:55.234167",
     "exception": false,
     "start_time": "2023-10-18T04:47:55.166606",
     "status": "completed"
    },
    "tags": []
   },
   "outputs": [],
   "source": [
    "average_age_summer = df[df['Season'] == 'Summer']['Age'].mean()\n",
    "print(\"Average Age of Customers in the Summer Season:\", average_age_summer)"
   ]
  },
  {
   "cell_type": "markdown",
   "id": "7dfc7873",
   "metadata": {
    "papermill": {
     "duration": 0.054784,
     "end_time": "2023-10-18T04:47:55.578261",
     "exception": false,
     "start_time": "2023-10-18T04:47:55.523477",
     "status": "completed"
    },
    "tags": []
   },
   "source": [
    "<div style=\"padding:10px;\n",
    "            color:#E55604;\n",
    "            margin:10px;\n",
    "            font-size:130%;\n",
    "            display:fill;\n",
    "            border-radius:5px;\n",
    "            border-style: solid;\n",
    "            border-color: #FF9B50;\n",
    "            background-color:#000000;\n",
    "            overflow:hidden;\n",
    "            font-weight:400\"><b>What is the maximum and minimum review rating in the dataset ?</b></div>"
   ]
  },
  {
   "cell_type": "code",
   "execution_count": null,
   "id": "cd732f7d",
   "metadata": {},
   "outputs": [],
   "source": [
    "data[\"Review Rating\"].max()"
   ]
  },
  {
   "cell_type": "code",
   "execution_count": null,
   "id": "888e1c64",
   "metadata": {},
   "outputs": [],
   "source": [
    "data[\"Review Rating\"].min()"
   ]
  },
  {
   "cell_type": "markdown",
   "id": "f8f3eb82",
   "metadata": {
    "papermill": {
     "duration": 0.055014,
     "end_time": "2023-10-18T04:47:56.051370",
     "exception": false,
     "start_time": "2023-10-18T04:47:55.996356",
     "status": "completed"
    },
    "tags": []
   },
   "source": [
    "<div style=\"padding:10px;\n",
    "            color:#E55604;\n",
    "            margin:10px;\n",
    "            font-size:130%;\n",
    "            display:fill;\n",
    "            border-radius:5px;\n",
    "            border-style: solid;\n",
    "            border-color: #FF9B50;\n",
    "            background-color:#000000;\n",
    "            overflow:hidden;\n",
    "            font-weight:400\"><b>How many customers have made more than 30 previous purchases ?</b>\n",
    "</div>"
   ]
  },
  {
   "cell_type": "code",
   "execution_count": null,
   "id": "6657b520",
   "metadata": {},
   "outputs": [],
   "source": [
    "x= data[\"Purchase Amount (USD)\"]<30"
   ]
  },
  {
   "cell_type": "code",
   "execution_count": null,
   "id": "09fdf5c0",
   "metadata": {},
   "outputs": [],
   "source": [
    "data[x]"
   ]
  },
  {
   "cell_type": "code",
   "execution_count": null,
   "id": "f5d7058b",
   "metadata": {},
   "outputs": [],
   "source": []
  },
  {
   "cell_type": "markdown",
   "id": "c4c4ffe5",
   "metadata": {
    "papermill": {
     "duration": 0.058549,
     "end_time": "2023-10-18T04:47:56.288399",
     "exception": false,
     "start_time": "2023-10-18T04:47:56.229850",
     "status": "completed"
    },
    "tags": []
   },
   "source": [
    "### What is the average purchase amount for customers who have made more than 30 previous purchases?\n"
   ]
  },
  {
   "cell_type": "code",
   "execution_count": null,
   "id": "954d5eb6",
   "metadata": {},
   "outputs": [],
   "source": [
    "x= data[\"Purchase Amount (USD)\"]<30"
   ]
  },
  {
   "cell_type": "code",
   "execution_count": null,
   "id": "44276e7d",
   "metadata": {},
   "outputs": [],
   "source": [
    "data[x].head()"
   ]
  },
  {
   "cell_type": "code",
   "execution_count": null,
   "id": "2cf4e064",
   "metadata": {},
   "outputs": [],
   "source": [
    "data[x].median()"
   ]
  },
  {
   "cell_type": "markdown",
   "id": "1a915d60",
   "metadata": {
    "papermill": {
     "duration": 0.057904,
     "end_time": "2023-10-18T04:47:57.723307",
     "exception": false,
     "start_time": "2023-10-18T04:47:57.665403",
     "status": "completed"
    },
    "tags": []
   },
   "source": [
    "### What is the total purchase amount for customers in each location?"
   ]
  },
  {
   "cell_type": "code",
   "execution_count": null,
   "id": "465b0bc3",
   "metadata": {},
   "outputs": [],
   "source": [
    "x= data2[\"Purchase Amount (USD)\"].sum()"
   ]
  },
  {
   "cell_type": "code",
   "execution_count": null,
   "id": "9667facb",
   "metadata": {},
   "outputs": [],
   "source": [
    "data2 = data.groupby('Location')"
   ]
  },
  {
   "cell_type": "code",
   "execution_count": null,
   "id": "55d4a9bc",
   "metadata": {},
   "outputs": [],
   "source": [
    "x"
   ]
  },
  {
   "cell_type": "markdown",
   "id": "f20ddd4e",
   "metadata": {
    "papermill": {
     "duration": 0.087997,
     "end_time": "2023-10-18T04:48:00.465799",
     "exception": false,
     "start_time": "2023-10-18T04:48:00.377802",
     "status": "completed"
    },
    "tags": []
   },
   "source": [
    "### How many customers have made a purchase in each category?"
   ]
  },
  {
   "cell_type": "code",
   "execution_count": null,
   "id": "937d4dcc",
   "metadata": {
    "execution": {
     "iopub.execute_input": "2023-10-18T04:48:00.648021Z",
     "iopub.status.busy": "2023-10-18T04:48:00.646931Z",
     "iopub.status.idle": "2023-10-18T04:48:00.654849Z",
     "shell.execute_reply": "2023-10-18T04:48:00.653529Z"
    },
    "papermill": {
     "duration": 0.101787,
     "end_time": "2023-10-18T04:48:00.657006",
     "exception": false,
     "start_time": "2023-10-18T04:48:00.555219",
     "status": "completed"
    },
    "tags": []
   },
   "outputs": [],
   "source": [
    "purchase_count_by_category = df['Category'].value_counts()\n",
    "print(\"Purchase Count by Category:\")\n",
    "print(purchase_count_by_category)"
   ]
  },
  {
   "cell_type": "markdown",
   "id": "fbdf1fe8",
   "metadata": {
    "papermill": {
     "duration": 0.091659,
     "end_time": "2023-10-18T04:48:01.210767",
     "exception": false,
     "start_time": "2023-10-18T04:48:01.119108",
     "status": "completed"
    },
    "tags": []
   },
   "source": [
    "### What is the total purchase amount for each size of clothing items (XL, L, M, S)?"
   ]
  },
  {
   "cell_type": "code",
   "execution_count": null,
   "id": "a3043479",
   "metadata": {},
   "outputs": [],
   "source": [
    "data3 = data.groupby('Purchase Amount (USD)')"
   ]
  },
  {
   "cell_type": "code",
   "execution_count": null,
   "id": "4f730384",
   "metadata": {},
   "outputs": [],
   "source": [
    "data3[\"Size\"].sum()"
   ]
  },
  {
   "cell_type": "code",
   "execution_count": null,
   "id": "bc3d2f5d",
   "metadata": {},
   "outputs": [],
   "source": []
  }
 ],
 "metadata": {
  "kernelspec": {
   "display_name": "Python 3 (ipykernel)",
   "language": "python",
   "name": "python3"
  },
  "language_info": {
   "codemirror_mode": {
    "name": "ipython",
    "version": 3
   },
   "file_extension": ".py",
   "mimetype": "text/x-python",
   "name": "python",
   "nbconvert_exporter": "python",
   "pygments_lexer": "ipython3",
   "version": "3.10.9"
  },
  "papermill": {
   "default_parameters": {},
   "duration": 40.222738,
   "end_time": "2023-10-18T04:48:14.071284",
   "environment_variables": {},
   "exception": null,
   "input_path": "__notebook__.ipynb",
   "output_path": "__notebook__.ipynb",
   "parameters": {},
   "start_time": "2023-10-18T04:47:33.848546",
   "version": "2.4.0"
  }
 },
 "nbformat": 4,
 "nbformat_minor": 5
}
